{
 "cells": [
  {
   "cell_type": "markdown",
   "metadata": {},
   "source": [
    "# Dependencies"
   ]
  },
  {
   "cell_type": "code",
   "execution_count": 3,
   "metadata": {},
   "outputs": [],
   "source": [
    "import xarray as xr\n",
    "import numpy as np\n",
    "from pathlib import Path\n",
    "import os\n",
    "import geopandas as gpd\n",
    "import matplotlib as mpl\n",
    "import matplotlib.pyplot as plt\n",
    "%matplotlib inline\n",
    "\n",
    "data_dir =  Path('/srv/shared/deep_well/data')\n",
    "grace_data_dir = data_dir / 'grace'"
   ]
  },
  {
   "cell_type": "code",
   "execution_count": 32,
   "metadata": {},
   "outputs": [
    {
     "data": {
      "text/plain": [
       "['GSFC.glb.200301_201607_v02.4-ICE6G.h5',\n",
       " 'CLM4.SCALE_FACTOR.JPL.MSCNv01CRIv01.nc']"
      ]
     },
     "execution_count": 32,
     "metadata": {},
     "output_type": "execute_result"
    }
   ],
   "source": [
    "os.listdir(grace_data_dir)"
   ]
  },
  {
   "cell_type": "code",
   "execution_count": 35,
   "metadata": {},
   "outputs": [
    {
     "data": {
      "text/plain": [
       "['.ipynb_checkpoints', 'california_state_outline']"
      ]
     },
     "execution_count": 35,
     "metadata": {},
     "output_type": "execute_result"
    }
   ],
   "source": [
    "os.listdir(data_dir / 'shapefiles')"
   ]
  },
  {
   "cell_type": "markdown",
   "metadata": {},
   "source": [
    "# California Shapefile"
   ]
  },
  {
   "cell_type": "code",
   "execution_count": 36,
   "metadata": {},
   "outputs": [],
   "source": [
    "california = gpd.read_file(data_dir / 'shapefiles/california_state_outline')"
   ]
  },
  {
   "cell_type": "code",
   "execution_count": 40,
   "metadata": {},
   "outputs": [
    {
     "data": {
      "text/plain": [
       "<matplotlib.axes._subplots.AxesSubplot at 0x7fb305ffab70>"
      ]
     },
     "execution_count": 40,
     "metadata": {},
     "output_type": "execute_result"
    },
    {
     "data": {
      "image/png": "[encoded data removed]",
      "text/plain": [
       "<Figure size 432x288 with 1 Axes>"
      ]
     },
     "metadata": {
      "needs_background": "light"
     },
     "output_type": "display_data"
    }
   ],
   "source": [
    "california.plot()"
   ]
  },
  {
   "cell_type": "markdown",
   "metadata": {},
   "source": [
    "# Dataset 1"
   ]
  },
  {
   "cell_type": "code",
   "execution_count": 16,
   "metadata": {},
   "outputs": [
    {
     "data": {
      "text/plain": [
       "PosixPath('/srv/shared/deep_well/data/grace/GSFC.glb.200301_201607_v02.4-ICE6G.h5')"
      ]
     },
     "execution_count": 16,
     "metadata": {},
     "output_type": "execute_result"
    }
   ],
   "source": [
    "ds1_fpath = grace_data_dir / 'GSFC.glb.200301_201607_v02.4-ICE6G.h5'\n",
    "ds1_fpath"
   ]
  },
  {
   "cell_type": "code",
   "execution_count": 20,
   "metadata": {},
   "outputs": [],
   "source": [
    "ds1 = xr.open_dataset(ds1_fpath)"
   ]
  },
  {
   "cell_type": "code",
   "execution_count": 21,
   "metadata": {},
   "outputs": [
    {
     "data": {
      "text/plain": [
       "<xarray.Dataset>\n",
       "Dimensions:  ()\n",
       "Data variables:\n",
       "    *empty*"
      ]
     },
     "execution_count": 21,
     "metadata": {},
     "output_type": "execute_result"
    }
   ],
   "source": [
    "ds1"
   ]
  },
  {
   "cell_type": "markdown",
   "metadata": {},
   "source": [
    "# Dataset 2"
   ]
  },
  {
   "cell_type": "code",
   "execution_count": 23,
   "metadata": {},
   "outputs": [
    {
     "data": {
      "text/plain": [
       "PosixPath('/srv/shared/deep_well/data/grace/CLM4.SCALE_FACTOR.JPL.MSCNv01CRIv01.nc')"
      ]
     },
     "execution_count": 23,
     "metadata": {},
     "output_type": "execute_result"
    }
   ],
   "source": [
    "ds2_fpath = grace_data_dir / 'CLM4.SCALE_FACTOR.JPL.MSCNv01CRIv01.nc'\n",
    "ds2_fpath"
   ]
  },
  {
   "cell_type": "code",
   "execution_count": 24,
   "metadata": {},
   "outputs": [],
   "source": [
    "ds2 = xr.open_dataset(ds2_fpath)"
   ]
  },
  {
   "cell_type": "code",
   "execution_count": 26,
   "metadata": {},
   "outputs": [
    {
     "name": "stdout",
     "output_type": "stream",
     "text": [
      "xarray.Dataset {\n",
      "dimensions:\n",
      "\tlat = 360 ;\n",
      "\tlon = 720 ;\n",
      "\n",
      "variables:\n",
      "\tfloat64 lon(lon) ;\n",
      "\t\tlon:units = degrees_east ;\n",
      "\t\tlon:long_name = longitude ;\n",
      "\t\tlon:standard_name = longitude ;\n",
      "\t\tlon:axis = X ;\n",
      "\t\tlon:valid_min = 0.25 ;\n",
      "\t\tlon:valid_max = 359.75 ;\n",
      "\tfloat64 lat(lat) ;\n",
      "\t\tlat:units = degrees_north ;\n",
      "\t\tlat:long_name = latitude ;\n",
      "\t\tlat:standard_name = latitude ;\n",
      "\t\tlat:axis = Y ;\n",
      "\t\tlat:valid_min = -89.75 ;\n",
      "\t\tlat:valid_max = 89.75 ;\n",
      "\tfloat64 scale_factor(lat, lon) ;\n",
      "\t\tscale_factor:units = dimensionless ;\n",
      "\t\tscale_factor:long_name = Scale_Factor_CRI ;\n",
      "\t\tscale_factor:standard_name = Scale_Factor_CRI ;\n",
      "\t\tscale_factor:valid_min = -99999.0 ;\n",
      "\t\tscale_factor:valid_max = 24.133988467789724 ;\n",
      "\t\tscale_factor:description = Gridded scale factors to be used with mascon solution that has the CRI filter applied ;\n",
      "\n",
      "// global attributes:\n",
      "\t:Conventions = CF-1.5 ;\n",
      "\t:Metadata_Conventions = Unidata Dataset Discovery v1.0 ;\n",
      "\t:standard_name_vocabulary = CF-1.5 ;\n",
      "\t:title = Scale Factor - CRI ;\n",
      "\t:summary = Scale factors to be applied to mascon solution with CRI filter applied; based on CLM data from 2002-2009 ;\n",
      "\t:filename = NETCDF/CLM4.SCALE_FACTOR.JPL.MSCNv01CRIv01.nc ;\n",
      "\t:variable = scale_factor_CRI ;\n",
      "\t:institution = JPL ;\n",
      "\t:creator_name = David Wiese ;\n",
      "\t:creator_email = david.n.wiese@jpl.nasa.gov ;\n",
      "\t:project = GRACE ;\n",
      "\t:geospatial_lat_min = -89.75 ;\n",
      "\t:geospatial_lat_max = 89.75 ;\n",
      "\t:geospatial_lat_units = degrees_north ;\n",
      "\t:geospatial_lat_resolution = 0.5 degree grid ;\n",
      "\t:geospatial_lon_min = 0.25 ;\n",
      "\t:geospatial_lon_max = 359.75 ;\n",
      "\t:geospatial_lon_units = degrees_east ;\n",
      "\t:geospatial_lon_resolution = 0.5 degree grid ;\n",
      "\t:DATE_CREATED = 20-Aug-2015 13:49:56 ;\n",
      "}"
     ]
    }
   ],
   "source": []
  },
  {
   "cell_type": "code",
   "execution_count": null,
   "metadata": {},
   "outputs": [],
   "source": [
    "ds['blue'].hvplot.image(rasterize=True, logz=True, width=700, height=500, cmap='blues', title=f'{item.id} (blue)')"
   ]
  },
  {
   "cell_type": "code",
   "execution_count": 4,
   "metadata": {},
   "outputs": [],
   "source": [
    "import xrviz\n",
    "import holoviews as hv\n",
    "import hvplot.xarray\n",
    "import hvplot.pandas\n",
    "import geoviews as gv"
   ]
  },
  {
   "cell_type": "code",
   "execution_count": 5,
   "metadata": {},
   "outputs": [
    {
     "data": {
      "text/plain": [
       "<xrviz.dashboard.Dashboard at 0x7fa9375a8208>"
      ]
     },
     "execution_count": 5,
     "metadata": {},
     "output_type": "execute_result"
    }
   ],
   "source": [
    "xrviz.example()"
   ]
  },
  {
   "cell_type": "code",
   "execution_count": null,
   "metadata": {},
   "outputs": [],
   "source": []
  }
 ],
 "metadata": {
  "kernelspec": {
   "display_name": "Python [conda env:notebook] *",
   "language": "python",
   "name": "conda-env-notebook-py"
  },
  "language_info": {
   "codemirror_mode": {
    "name": "ipython",
    "version": 3
   },
   "file_extension": ".py",
   "mimetype": "text/x-python",
   "name": "python",
   "nbconvert_exporter": "python",
   "pygments_lexer": "ipython3",
   "version": "3.7.3"
  }
 },
 "nbformat": 4,
 "nbformat_minor": 4
}
