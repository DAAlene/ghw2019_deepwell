{
 "cells": [
  {
   "cell_type": "markdown",
   "metadata": {},
   "source": [
    "**DEM comparisons and sources**\n",
    "\n",
    "\n",
    "\n",
    "**USGS 1-meter DEM:** https://catalog.data.gov/dataset/usgs-national-elevation-dataset-ned-1-meter-downloadable-data-collection-from-the-national-map-"
   ]
  },
  {
   "cell_type": "markdown",
   "metadata": {},
   "source": [
    "*need to figure out how to download DEM data from the USGS url into notebook*"
   ]
  },
  {
   "cell_type": "code",
   "execution_count": null,
   "metadata": {},
   "outputs": [],
   "source": [
    "#Import necessary modules\n",
    "#from osgeo import gdal\n",
    "#import numpy as np\n",
    "#import matplotlib.pyplot as plt\n",
    "\n",
    "#from pygeotools.lib import iolib, warplib, geolib, timelib, malib"
   ]
  },
  {
   "cell_type": "markdown",
   "metadata": {},
   "source": [
    "1-arcsec (30-m) USGS National Elevation Dataset derived from digitized contour maps with 1970 source date (I merged several tiles and clipped to a large extent around Rainier)"
   ]
  },
  {
   "cell_type": "markdown",
   "metadata": {},
   "source": [
    "**GEE DEM from USGS Elevation**\n",
    "url : https://developers.google.com/earth-engine/datasets/catalog/USGS_NED\n",
    "\n",
    "details: USGS National Elevation Dataset 1/3 arc-second\n",
    "\n",
    "\n",
    "line of code in GEE.."
   ]
  },
  {
   "cell_type": "markdown",
   "metadata": {},
   "source": [
    "**Load USGS elevation data into GEE**"
   ]
  },
  {
   "cell_type": "code",
   "execution_count": null,
   "metadata": {},
   "outputs": [],
   "source": [
    "#exploring a DEM USGS dataset below...\n",
    "\n",
    "var dataset = ee.Image('USGS/NED');\n",
    "print (dataset);\n",
    "var elevation = dataset.select('elevation');\n",
    "var elevationVis = {\n",
    "  min: 0.0,\n",
    "  max: 4000.0,\n",
    "  gamma: 1.6,\n",
    "};\n",
    "#set your map center\n",
    "Map.setCenter(-120.073, 37.822, 6);\n",
    "\n",
    "#add map layer of elevation data if you wish:\n",
    "Map.addLayer(elevation, elevationVis, 'Elevation');"
   ]
  },
  {
   "cell_type": "markdown",
   "metadata": {},
   "source": [
    "**Create a hillshade**"
   ]
  },
  {
   "cell_type": "code",
   "execution_count": null,
   "metadata": {},
   "outputs": [],
   "source": [
    "#Hillshade example.  This is a demonstration of computing\n",
    "#a hillshade from terrain data and displaying multiple\n",
    "#layers based on multiple view geometries.  Hillshade\n",
    "#creation is also provided by ee.Terrain.hillshade().\n",
    "\n",
    "#Define a function to convert from degrees to radians.\n",
    "\n",
    "function radians(img) {\n",
    "  return img.toFloat().multiply(Math.PI).divide(180);\n",
    "}\n",
    "\n",
    "#Define a function to compute a hillshade from terrain data\n",
    "#for the given sun azimuth and elevation.\n",
    "\n",
    "function hillshade(az, ze, slope, aspect) {\n",
    "  \n",
    "#Convert angles to radians.\n",
    "  \n",
    "  var azimuth = radians(ee.Image(az));\n",
    "  var zenith = radians(ee.Image(ze));\n",
    "\n",
    "#Note that methods on images are needed to do the computation.\n",
    "#i.e. JavaScript operators (e.g. +, -, /, *) do not work on images.\n",
    "#The following implements:\n",
    "#Hillshade = cos(Azimuth - Aspect) * sin(Slope) * sin(Zenith) +\n",
    "#    cos(Zenith) * cos(Slope)\n",
    "  \n",
    "  return azimuth.subtract(aspect).cos()\n",
    "    .multiply(slope.sin())\n",
    "    .multiply(zenith.sin())\n",
    "    .add(\n",
    "      zenith.cos().multiply(slope.cos()));\n",
    "}\n",
    "\n",
    "#Compute terrain meaasures from the SRTM DEM.\n",
    "\n",
    "var terrain = ee.Algorithms.Terrain(ee.Image('USGS/NED'));\n",
    "var slope = radians(terrain.select('slope'));\n",
    "var aspect = radians(terrain.select('aspect'));\n",
    "\n",
    "#select the hillshade band from the terrain USGS image:\n",
    "var dem = terrain.select('hillshade')\n",
    "print (dem);\n",
    "\n",
    "#if you want to add dem for whole country as as map layer:\n",
    "Map.addLayer(dem, {}, 'dem');\n"
   ]
  },
  {
   "cell_type": "markdown",
   "metadata": {},
   "source": [
    "**Clip hillshade to state of CA**"
   ]
  },
  {
   "cell_type": "code",
   "execution_count": null,
   "metadata": {},
   "outputs": [],
   "source": [
    "#pull data from US Census\n",
    "var featureCollection = ee.FeatureCollection(\"TIGER/2016/States\");\n",
    "#isolate California shapefile by name\n",
    "var region = featureCollection.filterMetadata('NAME', 'equals', 'California');\n",
    "\n",
    "#if you want to add the shapefile of CA as a layer to map:\n",
    "Map.addLayer(region, {}, 'cali')\n",
    "\n",
    "#clipping hillshade to california shape and adding as a map layer:\n",
    "Map.addLayer(dem.clip(region),{}, 'finaldem');\n"
   ]
  },
  {
   "cell_type": "markdown",
   "metadata": {},
   "source": [
    "**Add Central Valley watershed boundary**"
   ]
  },
  {
   "cell_type": "code",
   "execution_count": null,
   "metadata": {},
   "outputs": [],
   "source": [
    "#add shapefile asset to map as a layer\n",
    "#need to import it into code line as a feature and then add to map as layer.\n",
    "\n",
    "var cv_outline = ee.FeatureCollection('users/rachaelhaggen/cv_outline');\n",
    "Map.addLayer(cv_outline, {color: '937134'}, 'cv_outline');"
   ]
  }
 ],
 "metadata": {
  "kernelspec": {
   "display_name": "Python 3",
   "language": "python",
   "name": "python3"
  },
  "language_info": {
   "codemirror_mode": {
    "name": "ipython",
    "version": 3
   },
   "file_extension": ".py",
   "mimetype": "text/x-python",
   "name": "python",
   "nbconvert_exporter": "python",
   "pygments_lexer": "ipython3",
   "version": "3.7.3"
  }
 },
 "nbformat": 4,
 "nbformat_minor": 4
}
