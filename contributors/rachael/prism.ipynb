{
 "cells": [
  {
   "cell_type": "markdown",
   "metadata": {},
   "source": [
    "**PRISM data in Google Earth Engine for the Central Valley Watershed, CA**"
   ]
  },
  {
   "cell_type": "code",
   "execution_count": null,
   "metadata": {},
   "outputs": [],
   "source": [
    "#set map center using inspector tool and coordinates\n",
    "Map.setCenter(-121.172, 37.796, 6);\n",
    "\n",
    "#import PRISM dataset into GEE\n",
    "var dataset = ee.ImageCollection('OREGONSTATE/PRISM/AN81m')\n",
    "                  .filter(ee.Filter.date('2018-10-01', '2018-12-20'));\n",
    "#print (dataset)\n",
    "\n",
    "#select only precipitation data: min and max values will change depending on filtered dates\n",
    "var precipitation = dataset.select('ppt');\n",
    "var precipitationVis = {\n",
    "  min: 0.0,\n",
    "  max: 80.0,\n",
    "  palette: ['red','yellow','blue'],\n",
    "};\n",
    "\n",
    "#add precipitation as a map layer:\n",
    "#Map.addLayer(precipitation, precipitationVis, 'Precipitation');\n",
    "\n",
    "#calculate mean of images for the given time frame:\n",
    "var pmean = ee.ImageCollection(precipitation).mean();\n",
    "var pmax = ee.ImageCollection(precipitation).min();\n",
    "print(pmax)\n",
    "var pmin = ee.ImageCollection(precipitation).max();\n",
    "print(pmin)\n",
    "\n",
    "\n",
    "#select only temperature data: min and max values will change depending on filtered dates\n",
    "var temp = dataset.select('tmean')\n",
    "var tempVis = {\n",
    "  min: 11.5,\n",
    "  max: 22.5,\n",
    "  palette: ['cyan','yellow','red']\n",
    "};\n",
    "\n",
    "#print(temp)\n",
    "\n",
    "#add temperature as a map layer:\n",
    "#Map.addLayer(temp, tempVis, 'Monthly Avg Temp');\n",
    "\n",
    "#calculate mean of images for the given time frame:\n",
    "var tmean = ee.ImageCollection(temp).mean();\n",
    "var tmax = ee.ImageCollection(temp).min();\n",
    "print(tmax)\n",
    "var tmin = ee.ImageCollection(temp).max();\n",
    "print(tmin)\n",
    "\n",
    "#add shapefile asset to map as a layer\n",
    "#need to import it into code line as a feature and then add to map as layer:\n",
    "var cv_outline = ee.FeatureCollection('users/rachaelhaggen/cv_outline');\n",
    "Map.addLayer(cv_outline, {color: '937134'}, 'cv_outline');\n",
    "\n",
    "\n",
    "#clip PRISM map to central valley watershed:\n",
    "Map.addLayer(tmean.clip(cv_outline),tempVis, 'Temperature Mean');\n",
    "Map.addLayer(tmax.clip(cv_outline),tempVis, 'Temperature Max');\n",
    "Map.addLayer(tmin.clip(cv_outline),tempVis, 'Temperature Minimum');\n",
    "\n",
    "Map.addLayer(pmean.clip(cv_outline),precipitationVis, 'Precipitation Mean');\n",
    "Map.addLayer(pmax.clip(cv_outline),precipitationVis, 'Precipitation Max');\n",
    "Map.addLayer(pmin.clip(cv_outline),precipitationVis, 'Precipitation Minimum');"
   ]
  },
  {
   "cell_type": "markdown",
   "metadata": {},
   "source": [
    "GGE URL: https://code.earthengine.google.com/956ae30f5777681c775fbf759b4324ff"
   ]
  }
 ],
 "metadata": {
  "kernelspec": {
   "display_name": "vectorenv19",
   "language": "python",
   "name": "vectorenv19"
  },
  "language_info": {
   "codemirror_mode": {
    "name": "ipython",
    "version": 3
   },
   "file_extension": ".py",
   "mimetype": "text/x-python",
   "name": "python",
   "nbconvert_exporter": "python",
   "pygments_lexer": "ipython3",
   "version": "3.7.3"
  }
 },
 "nbformat": 4,
 "nbformat_minor": 4
}
