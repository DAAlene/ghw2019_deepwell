{
 "cells": [
  {
   "cell_type": "markdown",
   "metadata": {},
   "source": [
    "**PRISM data in Google Earth Engine for the Central Valley Watershed, CA**"
   ]
  },
  {
   "cell_type": "markdown",
   "metadata": {},
   "source": [
    "## Processing of 2018 data ##"
   ]
  },
  {
   "cell_type": "markdown",
   "metadata": {},
   "source": [
    "**Center map and import PRISM data**"
   ]
  },
  {
   "cell_type": "code",
   "execution_count": null,
   "metadata": {},
   "outputs": [],
   "source": [
    "#set map center using inspector tool and coordinates\n",
    "Map.setCenter(-121.172, 37.796, 6);\n",
    "\n",
    "#import PRISM dataset into GEE\n",
    "var dataset_2018 = ee.ImageCollection('OREGONSTATE/PRISM/AN81m')\n",
    "                  .filter(ee.Filter.date('2018-10-01', '2018-12-20'));\n",
    "#print (dataset)"
   ]
  },
  {
   "cell_type": "markdown",
   "metadata": {},
   "source": [
    "**Precipitaiton**"
   ]
  },
  {
   "cell_type": "code",
   "execution_count": null,
   "metadata": {},
   "outputs": [],
   "source": [
    "#select only precipitation data: min and max values will change depending on filtered dates\n",
    "var precipitation18 = dataset_2018.select('ppt');\n",
    "var precipitationVis18 = {\n",
    "  min: 0.0,\n",
    "  max: 80.0,\n",
    "  palette: ['red','yellow','blue'],\n",
    "};\n",
    "\n",
    "#add precipitation as a map layer:\n",
    "#Map.addLayer(precipitation18, precipitationVis18, 'Precipitation 2018');\n",
    "\n",
    "#calculate mean of images for the given time frame:\n",
    "var pmean18 = ee.ImageCollection(precipitation18).mean();\n",
    "var pmax18 = ee.ImageCollection(precipitation18).min();\n",
    "print(pmax18)\n",
    "var pmin18 = ee.ImageCollection(precipitation18).max();\n",
    "print(pmin18)"
   ]
  },
  {
   "cell_type": "markdown",
   "metadata": {},
   "source": [
    "**Temperature**"
   ]
  },
  {
   "cell_type": "code",
   "execution_count": null,
   "metadata": {},
   "outputs": [],
   "source": [
    "#select only temperature data: min and max values will change depending on filtered dates\n",
    "var temp18 = dataset_2018.select('tmean')\n",
    "var tempVis18 = {\n",
    "  min: 11.5,\n",
    "  max: 22.5,\n",
    "  palette: ['cyan','yellow','red']\n",
    "};\n",
    "\n",
    "#print(temp18)\n",
    "\n",
    "#add temperature as a map layer:\n",
    "#Map.addLayer(temp18, tempVis18, 'Monthly Avg Temp 2018');\n",
    "\n",
    "#calculate mean of images for the given time frame:\n",
    "var tmean18 = ee.ImageCollection(temp18).mean();\n",
    "var tmax18 = ee.ImageCollection(temp18).min();\n",
    "print(tmax18)\n",
    "var tmin18 = ee.ImageCollection(temp18).max();\n",
    "print(tmin18)"
   ]
  },
  {
   "cell_type": "markdown",
   "metadata": {},
   "source": [
    "**CV Watershed Boundary**"
   ]
  },
  {
   "cell_type": "code",
   "execution_count": null,
   "metadata": {},
   "outputs": [],
   "source": [
    "#add shapefile asset to map as a layer\n",
    "#need to import it into code line as a feature and then add to map as layer:\n",
    "var cv_outline = ee.FeatureCollection('users/rachaelhaggen/cv_outline');\n",
    "Map.addLayer(cv_outline, {color: '937134'}, 'cv_outline');"
   ]
  },
  {
   "cell_type": "markdown",
   "metadata": {},
   "source": [
    "**Clip to boundary and add as map layer**"
   ]
  },
  {
   "cell_type": "code",
   "execution_count": null,
   "metadata": {},
   "outputs": [],
   "source": [
    "#clip PRISM map to central valley watershed:\n",
    "Map.addLayer(tmean18.clip(cv_outline),tempVis18, 'Temperature Mean 2018');\n",
    "Map.addLayer(tmax18.clip(cv_outline),tempVis18, 'Temperature Max 2018');\n",
    "Map.addLayer(tmin18.clip(cv_outline),tempVis18, 'Temperature Minimum 2018');\n",
    "\n",
    "Map.addLayer(pmean18.clip(cv_outline),precipitationVis18, 'Precipitation Mean 2018');\n",
    "Map.addLayer(pmax18.clip(cv_outline),precipitationVis18, 'Precipitation Max 2018');\n",
    "Map.addLayer(pmin18.clip(cv_outline),precipitationVis18, 'Precipitation Minimum 2018');"
   ]
  },
  {
   "cell_type": "markdown",
   "metadata": {},
   "source": [
    "GGE current code uses 2018 and 2017 data URL: https://code.earthengine.google.com/349759660dd492bbcccceb41d3d0d9d5"
   ]
  },
  {
   "cell_type": "markdown",
   "metadata": {},
   "source": [
    "**process can be used line for line to select different years of data. Update variable names to account for different years**"
   ]
  }
 ],
 "metadata": {
  "kernelspec": {
   "display_name": "vectorenv19",
   "language": "python",
   "name": "vectorenv19"
  },
  "language_info": {
   "codemirror_mode": {
    "name": "ipython",
    "version": 3
   },
   "file_extension": ".py",
   "mimetype": "text/x-python",
   "name": "python",
   "nbconvert_exporter": "python",
   "pygments_lexer": "ipython3",
   "version": "3.7.3"
  }
 },
 "nbformat": 4,
 "nbformat_minor": 4
}
