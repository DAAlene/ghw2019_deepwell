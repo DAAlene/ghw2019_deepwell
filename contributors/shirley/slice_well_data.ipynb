{
 "cells": [
  {
   "cell_type": "code",
   "execution_count": 1,
   "metadata": {},
   "outputs": [],
   "source": [
    "import numpy as np\n",
    "\n",
    "from shapely.geometry import Point\n",
    "import pandas as pd\n",
    "import geopandas as gpd\n",
    "\n",
    "import matplotlib as mpl\n",
    "import matplotlib.pyplot as plt\n",
    "%matplotlib inline"
   ]
  },
  {
   "cell_type": "markdown",
   "metadata": {},
   "source": [
    "# Load shapefiles"
   ]
  },
  {
   "cell_type": "code",
   "execution_count": 2,
   "metadata": {},
   "outputs": [],
   "source": [
    "ca_state_outline = gpd.read_file('/home/jovyan/shared/deep_well/data/shapefiles/california_state_outline/CA_State_TIGER2016.shp')"
   ]
  },
  {
   "cell_type": "code",
   "execution_count": 3,
   "metadata": {},
   "outputs": [],
   "source": [
    "ca_state_outline.to_crs(epsg=4326, inplace=True)"
   ]
  },
  {
   "cell_type": "code",
   "execution_count": 4,
   "metadata": {},
   "outputs": [
    {
     "data": {
      "text/plain": [
       "{'init': 'epsg:4326', 'no_defs': True}"
      ]
     },
     "execution_count": 4,
     "metadata": {},
     "output_type": "execute_result"
    }
   ],
   "source": [
    "ca_state_outline.crs"
   ]
  },
  {
   "cell_type": "code",
   "execution_count": 5,
   "metadata": {},
   "outputs": [],
   "source": [
    "cv_outline = gpd.read_file('/home/jovyan/shared/deep_well/data/shapefiles/central_valley_shapfile/Alluvial_Bnd.shp')"
   ]
  },
  {
   "cell_type": "code",
   "execution_count": 6,
   "metadata": {},
   "outputs": [],
   "source": [
    "cv_outline.to_crs(epsg=4326, inplace=True)"
   ]
  },
  {
   "cell_type": "code",
   "execution_count": 7,
   "metadata": {},
   "outputs": [
    {
     "data": {
      "text/plain": [
       "{'init': 'epsg:4326', 'no_defs': True}"
      ]
     },
     "execution_count": 7,
     "metadata": {},
     "output_type": "execute_result"
    }
   ],
   "source": [
    "cv_outline.crs"
   ]
  },
  {
   "cell_type": "markdown",
   "metadata": {},
   "source": [
    "# Load well data shapefile"
   ]
  },
  {
   "cell_type": "code",
   "execution_count": 8,
   "metadata": {},
   "outputs": [
    {
     "name": "stdout",
     "output_type": "stream",
     "text": [
      "casgem\t\t  ca_well_data.dbf  cnra_continuous_gwl\n",
      "ca_well_data.cpg  ca_well_data.shp  cnra_periodic_gwl\n",
      "ca_well_data.csv  ca_well_data.shx  README\n"
     ]
    }
   ],
   "source": [
    "!ls /home/jovyan/shared/deep_well/data/well_data/"
   ]
  },
  {
   "cell_type": "code",
   "execution_count": 9,
   "metadata": {},
   "outputs": [],
   "source": [
    "well_data = gpd.read_file('/home/jovyan/shared/deep_well/data/well_data/ca_well_data.shp')"
   ]
  },
  {
   "cell_type": "code",
   "execution_count": 11,
   "metadata": {},
   "outputs": [
    {
     "data": {
      "text/plain": [
       "<matplotlib.axes._subplots.AxesSubplot at 0x7fee79dd2f60>"
      ]
     },
     "execution_count": 11,
     "metadata": {},
     "output_type": "execute_result"
    },
    {
     "data": {
      "image/png": "[encoded data removed]",
      "text/plain": [
       "<Figure size 432x288 with 1 Axes>"
      ]
     },
     "metadata": {
      "needs_background": "light"
     },
     "output_type": "display_data"
    }
   ],
   "source": [
    "well_data.plot()"
   ]
  },
  {
   "cell_type": "code",
   "execution_count": 12,
   "metadata": {},
   "outputs": [
    {
     "data": {
      "text/html": [
       "<div>\n",
       "<style scoped>\n",
       "    .dataframe tbody tr th:only-of-type {\n",
       "        vertical-align: middle;\n",
       "    }\n",
       "\n",
       "    .dataframe tbody tr th {\n",
       "        vertical-align: top;\n",
       "    }\n",
       "\n",
       "    .dataframe thead th {\n",
       "        text-align: right;\n",
       "    }\n",
       "</style>\n",
       "<table border=\"1\" class=\"dataframe\">\n",
       "  <thead>\n",
       "    <tr style=\"text-align: right;\">\n",
       "      <th></th>\n",
       "      <th>STATION</th>\n",
       "      <th>MSMT_DATE</th>\n",
       "      <th>GSE_WSE</th>\n",
       "      <th>WSE</th>\n",
       "      <th>LATITUDE</th>\n",
       "      <th>LONGITUDE</th>\n",
       "      <th>WELL_DEPTH</th>\n",
       "      <th>PRD_OR_CON</th>\n",
       "      <th>geometry</th>\n",
       "    </tr>\n",
       "  </thead>\n",
       "  <tbody>\n",
       "    <tr>\n",
       "      <th>0</th>\n",
       "      <td>01N04E36Q001M</td>\n",
       "      <td>2005-05-01</td>\n",
       "      <td>15.238</td>\n",
       "      <td>-8.338</td>\n",
       "      <td>37.886056</td>\n",
       "      <td>-121.481833</td>\n",
       "      <td>81.0</td>\n",
       "      <td>1</td>\n",
       "      <td>POINT (-121.48183333 37.88605556)</td>\n",
       "    </tr>\n",
       "    <tr>\n",
       "      <th>1</th>\n",
       "      <td>01N04E36Q001M</td>\n",
       "      <td>2005-06-01</td>\n",
       "      <td>15.130</td>\n",
       "      <td>-8.230</td>\n",
       "      <td>37.886056</td>\n",
       "      <td>-121.481833</td>\n",
       "      <td>81.0</td>\n",
       "      <td>1</td>\n",
       "      <td>POINT (-121.48183333 37.88605556)</td>\n",
       "    </tr>\n",
       "  </tbody>\n",
       "</table>\n",
       "</div>"
      ],
      "text/plain": [
       "         STATION   MSMT_DATE  GSE_WSE    WSE   LATITUDE   LONGITUDE  \\\n",
       "0  01N04E36Q001M  2005-05-01   15.238 -8.338  37.886056 -121.481833   \n",
       "1  01N04E36Q001M  2005-06-01   15.130 -8.230  37.886056 -121.481833   \n",
       "\n",
       "   WELL_DEPTH  PRD_OR_CON                           geometry  \n",
       "0        81.0           1  POINT (-121.48183333 37.88605556)  \n",
       "1        81.0           1  POINT (-121.48183333 37.88605556)  "
      ]
     },
     "execution_count": 12,
     "metadata": {},
     "output_type": "execute_result"
    }
   ],
   "source": [
    "well_data.head(2)"
   ]
  },
  {
   "cell_type": "markdown",
   "metadata": {},
   "source": [
    "# Looking at date ranges"
   ]
  },
  {
   "cell_type": "code",
   "execution_count": 15,
   "metadata": {},
   "outputs": [
    {
     "data": {
      "text/plain": [
       "'1888-01-01'"
      ]
     },
     "execution_count": 15,
     "metadata": {},
     "output_type": "execute_result"
    }
   ],
   "source": [
    "well_data[well_data['PRD_OR_CON']==0]['MSMT_DATE'].min()"
   ]
  },
  {
   "cell_type": "code",
   "execution_count": 16,
   "metadata": {},
   "outputs": [
    {
     "data": {
      "text/plain": [
       "'2019-09-01'"
      ]
     },
     "execution_count": 16,
     "metadata": {},
     "output_type": "execute_result"
    }
   ],
   "source": [
    "well_data[well_data['PRD_OR_CON']==0]['MSMT_DATE'].max()"
   ]
  },
  {
   "cell_type": "code",
   "execution_count": 17,
   "metadata": {},
   "outputs": [
    {
     "data": {
      "text/plain": [
       "'1992-04-01'"
      ]
     },
     "execution_count": 17,
     "metadata": {},
     "output_type": "execute_result"
    }
   ],
   "source": [
    "well_data[well_data['PRD_OR_CON']==1]['MSMT_DATE'].min()"
   ]
  },
  {
   "cell_type": "code",
   "execution_count": 18,
   "metadata": {},
   "outputs": [
    {
     "data": {
      "text/plain": [
       "'2019-03-01'"
      ]
     },
     "execution_count": 18,
     "metadata": {},
     "output_type": "execute_result"
    }
   ],
   "source": [
    "well_data[well_data['PRD_OR_CON']==1]['MSMT_DATE'].max()"
   ]
  },
  {
   "cell_type": "markdown",
   "metadata": {},
   "source": [
    "# Save out monthly shapefiles"
   ]
  },
  {
   "cell_type": "code",
   "execution_count": 34,
   "metadata": {},
   "outputs": [
    {
     "data": {
      "text/plain": [
       "array([2019])"
      ]
     },
     "execution_count": 34,
     "metadata": {},
     "output_type": "execute_result"
    }
   ],
   "source": [
    "years = np.array([2019])\n",
    "years"
   ]
  },
  {
   "cell_type": "code",
   "execution_count": 35,
   "metadata": {},
   "outputs": [
    {
     "data": {
      "text/plain": [
       "array([1, 2, 3, 4, 5, 6, 7, 8, 9])"
      ]
     },
     "execution_count": 35,
     "metadata": {},
     "output_type": "execute_result"
    }
   ],
   "source": [
    "months = np.arange(1,10)\n",
    "months"
   ]
  },
  {
   "cell_type": "code",
   "execution_count": 91,
   "metadata": {},
   "outputs": [
    {
     "name": "stdout",
     "output_type": "stream",
     "text": [
      "2019-01-01\n",
      "2019-02-01\n",
      "2019-03-01\n",
      "2019-04-01\n",
      "2019-05-01\n",
      "2019-06-01\n",
      "2019-07-01\n",
      "2019-08-01\n",
      "2019-09-01\n"
     ]
    }
   ],
   "source": [
    "for year in years:\n",
    "    for month in months:\n",
    "        date_now = np.str(year) + '-' + np.str(month).zfill(2)+ '-01'\n",
    "        print(date_now)\n",
    "        #!mkdir /home/jovyan/shared/deep_well/data/well_data/{date_now}\n",
    "        well_data_now = well_data[well_data['MSMT_DATE']==date_now]\n",
    "        well_data_now.to_file('/home/jovyan/shared/deep_well/data/well_data/' + date_now + '/ca_well_data_' + date_now + '.shp')"
   ]
  },
  {
   "cell_type": "code",
   "execution_count": 89,
   "metadata": {},
   "outputs": [
    {
     "name": "stdout",
     "output_type": "stream",
     "text": [
      "2019-01-01\n",
      "            STATION   MSMT_DATE  GSE_WSE    WSE   LATITUDE   LONGITUDE  \\\n",
      "2733  05N03E09L001M  2019-01-01   16.784  0.826  38.290206 -121.647331   \n",
      "2819  05N03E09L002M  2019-01-01   17.156  0.814  38.290198 -121.647363   \n",
      "\n",
      "      WELL_DEPTH  PRD_OR_CON                           geometry  \n",
      "2733        43.0           1  POINT (-121.64733086 38.29020604)  \n",
      "2819        82.0           1  POINT (-121.64736277 38.29019763)  \n",
      "2019-02-01\n",
      "            STATION   MSMT_DATE  GSE_WSE    WSE   LATITUDE   LONGITUDE  \\\n",
      "2734  05N03E09L001M  2019-02-01   15.474  2.136  38.290206 -121.647331   \n",
      "2820  05N03E09L002M  2019-02-01   15.830  2.140  38.290198 -121.647363   \n",
      "\n",
      "      WELL_DEPTH  PRD_OR_CON                           geometry  \n",
      "2734        43.0           1  POINT (-121.64733086 38.29020604)  \n",
      "2820        82.0           1  POINT (-121.64736277 38.29019763)  \n",
      "2019-03-01\n",
      "            STATION   MSMT_DATE  GSE_WSE  WSE  LATITUDE  LONGITUDE  \\\n",
      "5010  07N02E35D001M  2019-03-01      NaN  NaN   38.4159  -121.7303   \n",
      "5181  07N02E35D002M  2019-03-01      NaN  NaN   38.4159  -121.7303   \n",
      "\n",
      "      WELL_DEPTH  PRD_OR_CON                   geometry  \n",
      "5010        43.0           1  POINT (-121.7303 38.4159)  \n",
      "5181       243.0           1  POINT (-121.7303 38.4159)  \n",
      "2019-04-01\n",
      "      STATION   MSMT_DATE  GSE_WSE    WSE  LATITUDE  LONGITUDE  WELL_DEPTH  \\\n",
      "60576    2015  2019-04-01     54.2 -23.74   38.0589   -121.290         NaN   \n",
      "60832    2019  2019-04-01      NaN    NaN   38.1387   -121.173       160.0   \n",
      "\n",
      "       PRD_OR_CON                  geometry  \n",
      "60576           0   POINT (-121.29 38.0589)  \n",
      "60832           0  POINT (-121.173 38.1387)  \n",
      "2019-05-01\n",
      "      STATION   MSMT_DATE  GSE_WSE    WSE  LATITUDE  LONGITUDE  WELL_DEPTH  \\\n",
      "60577    2015  2019-05-01     54.4 -23.94   38.0589   -121.290         NaN   \n",
      "60833    2019  2019-05-01    115.9 -29.54   38.1387   -121.173       160.0   \n",
      "\n",
      "       PRD_OR_CON                  geometry  \n",
      "60577           0   POINT (-121.29 38.0589)  \n",
      "60833           0  POINT (-121.173 38.1387)  \n",
      "2019-06-01\n",
      "      STATION   MSMT_DATE  GSE_WSE    WSE  LATITUDE  LONGITUDE  WELL_DEPTH  \\\n",
      "60578    2015  2019-06-01     55.2 -24.74   38.0589   -121.290         NaN   \n",
      "60834    2019  2019-06-01      NaN    NaN   38.1387   -121.173       160.0   \n",
      "\n",
      "       PRD_OR_CON                  geometry  \n",
      "60578           0   POINT (-121.29 38.0589)  \n",
      "60834           0  POINT (-121.173 38.1387)  \n",
      "2019-07-01\n",
      "      STATION   MSMT_DATE  GSE_WSE    WSE  LATITUDE  LONGITUDE  WELL_DEPTH  \\\n",
      "60579    2015  2019-07-01     54.7 -24.24   38.0589   -121.290         NaN   \n",
      "60835    2019  2019-07-01    120.5 -34.14   38.1387   -121.173       160.0   \n",
      "\n",
      "       PRD_OR_CON                  geometry  \n",
      "60579           0   POINT (-121.29 38.0589)  \n",
      "60835           0  POINT (-121.173 38.1387)  \n",
      "2019-08-01\n",
      "      STATION   MSMT_DATE  GSE_WSE    WSE  LATITUDE  LONGITUDE  WELL_DEPTH  \\\n",
      "60580    2015  2019-08-01      NaN    NaN   38.0589   -121.290         NaN   \n",
      "60836    2019  2019-08-01    122.3 -35.94   38.1387   -121.173       160.0   \n",
      "\n",
      "       PRD_OR_CON                  geometry  \n",
      "60580           0   POINT (-121.29 38.0589)  \n",
      "60836           0  POINT (-121.173 38.1387)  \n",
      "2019-09-01\n",
      "       STATION   MSMT_DATE  GSE_WSE    WSE  LATITUDE  LONGITUDE  WELL_DEPTH  \\\n",
      "160776    4726  2019-09-01     48.5  19.08   38.4165    -121.86      1030.0   \n",
      "174530    5276  2019-09-01     75.3  57.32   38.4073    -121.97       160.0   \n",
      "\n",
      "        PRD_OR_CON                 geometry  \n",
      "160776           0  POINT (-121.86 38.4165)  \n",
      "174530           0  POINT (-121.97 38.4073)  \n"
     ]
    }
   ],
   "source": [
    "for year in years:\n",
    "    for month in months:\n",
    "        date_now = np.str(year) + '-' + np.str(month).zfill(2)+ '-01'\n",
    "        print(date_now)\n",
    "        well_data_now = well_data[well_data['MSMT_DATE']==date_now]\n",
    "        print(well_data_now.head(2))\n",
    "        well_data_now.to_file('/home/jovyan/shared/deep_well/data/well_data/' + date_now + '/ca_well_data_' + date_now + '.geojson', driver='GeoJSON')"
   ]
  },
  {
   "cell_type": "code",
   "execution_count": 83,
   "metadata": {},
   "outputs": [],
   "source": [
    "# test\n",
    "test = gpd.read_file('/home/jovyan/shared/deep_well/data/well_data/2019-02-01/ca_well_data_2019-02-01.shp')"
   ]
  },
  {
   "cell_type": "code",
   "execution_count": 92,
   "metadata": {},
   "outputs": [],
   "source": [
    "# test\n",
    "test = gpd.read_file('/home/jovyan/shared/deep_well/data/well_data/2019-02-01/ca_well_data_2019-02-01.geojson')"
   ]
  },
  {
   "cell_type": "code",
   "execution_count": 93,
   "metadata": {},
   "outputs": [
    {
     "data": {
      "text/html": [
       "<div>\n",
       "<style scoped>\n",
       "    .dataframe tbody tr th:only-of-type {\n",
       "        vertical-align: middle;\n",
       "    }\n",
       "\n",
       "    .dataframe tbody tr th {\n",
       "        vertical-align: top;\n",
       "    }\n",
       "\n",
       "    .dataframe thead th {\n",
       "        text-align: right;\n",
       "    }\n",
       "</style>\n",
       "<table border=\"1\" class=\"dataframe\">\n",
       "  <thead>\n",
       "    <tr style=\"text-align: right;\">\n",
       "      <th></th>\n",
       "      <th>STATION</th>\n",
       "      <th>MSMT_DATE</th>\n",
       "      <th>GSE_WSE</th>\n",
       "      <th>WSE</th>\n",
       "      <th>LATITUDE</th>\n",
       "      <th>LONGITUDE</th>\n",
       "      <th>WELL_DEPTH</th>\n",
       "      <th>PRD_OR_CON</th>\n",
       "      <th>geometry</th>\n",
       "    </tr>\n",
       "  </thead>\n",
       "  <tbody>\n",
       "    <tr>\n",
       "      <th>0</th>\n",
       "      <td>05N03E09L001M</td>\n",
       "      <td>2019-02-01</td>\n",
       "      <td>15.474</td>\n",
       "      <td>2.136</td>\n",
       "      <td>38.290206</td>\n",
       "      <td>-121.647331</td>\n",
       "      <td>43.0</td>\n",
       "      <td>1</td>\n",
       "      <td>POINT (-121.64733086 38.29020604)</td>\n",
       "    </tr>\n",
       "    <tr>\n",
       "      <th>1</th>\n",
       "      <td>05N03E09L002M</td>\n",
       "      <td>2019-02-01</td>\n",
       "      <td>15.830</td>\n",
       "      <td>2.140</td>\n",
       "      <td>38.290198</td>\n",
       "      <td>-121.647363</td>\n",
       "      <td>82.0</td>\n",
       "      <td>1</td>\n",
       "      <td>POINT (-121.64736277 38.29019763)</td>\n",
       "    </tr>\n",
       "    <tr>\n",
       "      <th>2</th>\n",
       "      <td>05N03E20B001M</td>\n",
       "      <td>2019-02-01</td>\n",
       "      <td>8.138</td>\n",
       "      <td>5.712</td>\n",
       "      <td>38.270285</td>\n",
       "      <td>-121.661349</td>\n",
       "      <td>27.0</td>\n",
       "      <td>1</td>\n",
       "      <td>POINT (-121.66134915 38.27028472)</td>\n",
       "    </tr>\n",
       "    <tr>\n",
       "      <th>3</th>\n",
       "      <td>05N03E20B002M</td>\n",
       "      <td>2019-02-01</td>\n",
       "      <td>9.992</td>\n",
       "      <td>3.997</td>\n",
       "      <td>38.270311</td>\n",
       "      <td>-121.661340</td>\n",
       "      <td>57.0</td>\n",
       "      <td>1</td>\n",
       "      <td>POINT (-121.66134034 38.27031076)</td>\n",
       "    </tr>\n",
       "    <tr>\n",
       "      <th>4</th>\n",
       "      <td>05N03E20B003M</td>\n",
       "      <td>2019-02-01</td>\n",
       "      <td>10.995</td>\n",
       "      <td>2.965</td>\n",
       "      <td>38.270325</td>\n",
       "      <td>-121.661337</td>\n",
       "      <td>99.0</td>\n",
       "      <td>1</td>\n",
       "      <td>POINT (-121.66133658 38.27032465)</td>\n",
       "    </tr>\n",
       "  </tbody>\n",
       "</table>\n",
       "</div>"
      ],
      "text/plain": [
       "         STATION   MSMT_DATE  GSE_WSE    WSE   LATITUDE   LONGITUDE  \\\n",
       "0  05N03E09L001M  2019-02-01   15.474  2.136  38.290206 -121.647331   \n",
       "1  05N03E09L002M  2019-02-01   15.830  2.140  38.290198 -121.647363   \n",
       "2  05N03E20B001M  2019-02-01    8.138  5.712  38.270285 -121.661349   \n",
       "3  05N03E20B002M  2019-02-01    9.992  3.997  38.270311 -121.661340   \n",
       "4  05N03E20B003M  2019-02-01   10.995  2.965  38.270325 -121.661337   \n",
       "\n",
       "   WELL_DEPTH  PRD_OR_CON                           geometry  \n",
       "0        43.0           1  POINT (-121.64733086 38.29020604)  \n",
       "1        82.0           1  POINT (-121.64736277 38.29019763)  \n",
       "2        27.0           1  POINT (-121.66134915 38.27028472)  \n",
       "3        57.0           1  POINT (-121.66134034 38.27031076)  \n",
       "4        99.0           1  POINT (-121.66133658 38.27032465)  "
      ]
     },
     "execution_count": 93,
     "metadata": {},
     "output_type": "execute_result"
    }
   ],
   "source": [
    "test.head()"
   ]
  },
  {
   "cell_type": "code",
   "execution_count": 94,
   "metadata": {},
   "outputs": [
    {
     "data": {
      "text/plain": [
       "(1738, 9)"
      ]
     },
     "execution_count": 94,
     "metadata": {},
     "output_type": "execute_result"
    }
   ],
   "source": [
    "test.shape"
   ]
  },
  {
   "cell_type": "code",
   "execution_count": 95,
   "metadata": {},
   "outputs": [],
   "source": [
    "testnow = test[pd.notnull(test['WSE'])]"
   ]
  },
  {
   "cell_type": "code",
   "execution_count": 96,
   "metadata": {},
   "outputs": [
    {
     "data": {
      "text/plain": [
       "(1637, 9)"
      ]
     },
     "execution_count": 96,
     "metadata": {},
     "output_type": "execute_result"
    }
   ],
   "source": [
    "testnow.shape"
   ]
  },
  {
   "cell_type": "code",
   "execution_count": 97,
   "metadata": {},
   "outputs": [],
   "source": [
    "# Anthony got rid of the nans"
   ]
  }
 ],
 "metadata": {
  "kernelspec": {
   "display_name": "Python [conda env:notebook] *",
   "language": "python",
   "name": "conda-env-notebook-py"
  },
  "language_info": {
   "codemirror_mode": {
    "name": "ipython",
    "version": 3
   },
   "file_extension": ".py",
   "mimetype": "text/x-python",
   "name": "python",
   "nbconvert_exporter": "python",
   "pygments_lexer": "ipython3",
   "version": "3.7.3"
  }
 },
 "nbformat": 4,
 "nbformat_minor": 4
}
